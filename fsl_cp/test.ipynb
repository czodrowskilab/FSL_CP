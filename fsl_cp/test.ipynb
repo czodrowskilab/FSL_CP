{
 "cells": [
  {
   "cell_type": "code",
   "execution_count": 1,
   "metadata": {},
   "outputs": [],
   "source": [
    "import pandas as pd\n",
    "import numpy as np\n",
    "from datamodule.multitask_img import each_view_a_datapoint"
   ]
  },
  {
   "cell_type": "code",
   "execution_count": 2,
   "metadata": {},
   "outputs": [
    {
     "data": {
      "text/html": [
       "<div>\n",
       "<style scoped>\n",
       "    .dataframe tbody tr th:only-of-type {\n",
       "        vertical-align: middle;\n",
       "    }\n",
       "\n",
       "    .dataframe tbody tr th {\n",
       "        vertical-align: top;\n",
       "    }\n",
       "\n",
       "    .dataframe thead th {\n",
       "        text-align: right;\n",
       "    }\n",
       "</style>\n",
       "<table border=\"1\" class=\"dataframe\">\n",
       "  <thead>\n",
       "    <tr style=\"text-align: right;\">\n",
       "      <th></th>\n",
       "      <th>INCHIKEY</th>\n",
       "      <th>CPD_SMILES</th>\n",
       "      <th>SAMPLE_KEY</th>\n",
       "      <th>VIEWS</th>\n",
       "      <th>LABEL</th>\n",
       "      <th>NUM_ROW_CP_FEATURES</th>\n",
       "      <th>ASSAY</th>\n",
       "    </tr>\n",
       "  </thead>\n",
       "  <tbody>\n",
       "    <tr>\n",
       "      <th>0</th>\n",
       "      <td>AUVVAXYIELKVAI-CKBKHPSWSA-N</td>\n",
       "      <td>CC[C@H]1CN2CCc3cc(OC)c(OC)cc3[C@@H]2C[C@@H]1C[...</td>\n",
       "      <td>24305-D04</td>\n",
       "      <td>1_2_3_4_5_6</td>\n",
       "      <td>1.0</td>\n",
       "      <td>2636</td>\n",
       "      <td>737823</td>\n",
       "    </tr>\n",
       "    <tr>\n",
       "      <th>1</th>\n",
       "      <td>AUVVAXYIELKVAI-CKBKHPSWSA-N</td>\n",
       "      <td>CC[C@H]1CN2CCc3cc(OC)c(OC)cc3[C@@H]2C[C@@H]1C[...</td>\n",
       "      <td>24306-D04</td>\n",
       "      <td>1_2_3_4_5_6</td>\n",
       "      <td>1.0</td>\n",
       "      <td>2870</td>\n",
       "      <td>737823</td>\n",
       "    </tr>\n",
       "    <tr>\n",
       "      <th>2</th>\n",
       "      <td>AUVVAXYIELKVAI-CKBKHPSWSA-N</td>\n",
       "      <td>CC[C@H]1CN2CCc3cc(OC)c(OC)cc3[C@@H]2C[C@@H]1C[...</td>\n",
       "      <td>24307-D04</td>\n",
       "      <td>1_2_3_4_5_6</td>\n",
       "      <td>1.0</td>\n",
       "      <td>3105</td>\n",
       "      <td>737823</td>\n",
       "    </tr>\n",
       "    <tr>\n",
       "      <th>3</th>\n",
       "      <td>AUVVAXYIELKVAI-CKBKHPSWSA-N</td>\n",
       "      <td>CC[C@H]1CN2CCc3cc(OC)c(OC)cc3[C@@H]2C[C@@H]1C[...</td>\n",
       "      <td>24352-D04</td>\n",
       "      <td>1_2_3_4_5_6</td>\n",
       "      <td>1.0</td>\n",
       "      <td>5531</td>\n",
       "      <td>737823</td>\n",
       "    </tr>\n",
       "    <tr>\n",
       "      <th>4</th>\n",
       "      <td>AUVVAXYIELKVAI-CKBKHPSWSA-N</td>\n",
       "      <td>CC[C@H]1CN2CCc3cc(OC)c(OC)cc3[C@@H]2C[C@@H]1C[...</td>\n",
       "      <td>25955-D04</td>\n",
       "      <td>1_2_3_4_5_6</td>\n",
       "      <td>1.0</td>\n",
       "      <td>34149</td>\n",
       "      <td>737823</td>\n",
       "    </tr>\n",
       "    <tr>\n",
       "      <th>...</th>\n",
       "      <td>...</td>\n",
       "      <td>...</td>\n",
       "      <td>...</td>\n",
       "      <td>...</td>\n",
       "      <td>...</td>\n",
       "      <td>...</td>\n",
       "      <td>...</td>\n",
       "    </tr>\n",
       "    <tr>\n",
       "      <th>286336</th>\n",
       "      <td>ZZRJKLPEGBZEAO-UHFFFAOYSA-N</td>\n",
       "      <td>COCCNC1=NN=C(CS1)c1ccc(NC(C)=O)cc1</td>\n",
       "      <td>25738-F12</td>\n",
       "      <td>1_2_3_4_5_6</td>\n",
       "      <td>0.0</td>\n",
       "      <td>32530</td>\n",
       "      <td>1495346</td>\n",
       "    </tr>\n",
       "    <tr>\n",
       "      <th>286337</th>\n",
       "      <td>ZZZPZDFBUDZIOU-UHFFFAOYSA-N</td>\n",
       "      <td>O=S(=O)(c1ccccc1)n1ccc(n1)-c1cnc(s1)-c1ccccc1</td>\n",
       "      <td>25689-D07</td>\n",
       "      <td>1_2_3_4_5_6</td>\n",
       "      <td>0.0</td>\n",
       "      <td>29280</td>\n",
       "      <td>1495346</td>\n",
       "    </tr>\n",
       "    <tr>\n",
       "      <th>286338</th>\n",
       "      <td>ZZZPZDFBUDZIOU-UHFFFAOYSA-N</td>\n",
       "      <td>O=S(=O)(c1ccccc1)n1ccc(n1)-c1cnc(s1)-c1ccccc1</td>\n",
       "      <td>25690-D07</td>\n",
       "      <td>1_2_3_4_5_6</td>\n",
       "      <td>0.0</td>\n",
       "      <td>29533</td>\n",
       "      <td>1495346</td>\n",
       "    </tr>\n",
       "    <tr>\n",
       "      <th>286339</th>\n",
       "      <td>ZZZPZDFBUDZIOU-UHFFFAOYSA-N</td>\n",
       "      <td>O=S(=O)(c1ccccc1)n1ccc(n1)-c1cnc(s1)-c1ccccc1</td>\n",
       "      <td>25692-D07</td>\n",
       "      <td>1_2_3_4_5_6</td>\n",
       "      <td>0.0</td>\n",
       "      <td>29786</td>\n",
       "      <td>1495346</td>\n",
       "    </tr>\n",
       "    <tr>\n",
       "      <th>286340</th>\n",
       "      <td>ZZZPZDFBUDZIOU-UHFFFAOYSA-N</td>\n",
       "      <td>O=S(=O)(c1ccccc1)n1ccc(n1)-c1cnc(s1)-c1ccccc1</td>\n",
       "      <td>25724-D07</td>\n",
       "      <td>1_2_3_4_5_6</td>\n",
       "      <td>0.0</td>\n",
       "      <td>31625</td>\n",
       "      <td>1495346</td>\n",
       "    </tr>\n",
       "  </tbody>\n",
       "</table>\n",
       "<p>286341 rows × 7 columns</p>\n",
       "</div>"
      ],
      "text/plain": [
       "                           INCHIKEY  \\\n",
       "0       AUVVAXYIELKVAI-CKBKHPSWSA-N   \n",
       "1       AUVVAXYIELKVAI-CKBKHPSWSA-N   \n",
       "2       AUVVAXYIELKVAI-CKBKHPSWSA-N   \n",
       "3       AUVVAXYIELKVAI-CKBKHPSWSA-N   \n",
       "4       AUVVAXYIELKVAI-CKBKHPSWSA-N   \n",
       "...                             ...   \n",
       "286336  ZZRJKLPEGBZEAO-UHFFFAOYSA-N   \n",
       "286337  ZZZPZDFBUDZIOU-UHFFFAOYSA-N   \n",
       "286338  ZZZPZDFBUDZIOU-UHFFFAOYSA-N   \n",
       "286339  ZZZPZDFBUDZIOU-UHFFFAOYSA-N   \n",
       "286340  ZZZPZDFBUDZIOU-UHFFFAOYSA-N   \n",
       "\n",
       "                                               CPD_SMILES SAMPLE_KEY  \\\n",
       "0       CC[C@H]1CN2CCc3cc(OC)c(OC)cc3[C@@H]2C[C@@H]1C[...  24305-D04   \n",
       "1       CC[C@H]1CN2CCc3cc(OC)c(OC)cc3[C@@H]2C[C@@H]1C[...  24306-D04   \n",
       "2       CC[C@H]1CN2CCc3cc(OC)c(OC)cc3[C@@H]2C[C@@H]1C[...  24307-D04   \n",
       "3       CC[C@H]1CN2CCc3cc(OC)c(OC)cc3[C@@H]2C[C@@H]1C[...  24352-D04   \n",
       "4       CC[C@H]1CN2CCc3cc(OC)c(OC)cc3[C@@H]2C[C@@H]1C[...  25955-D04   \n",
       "...                                                   ...        ...   \n",
       "286336                 COCCNC1=NN=C(CS1)c1ccc(NC(C)=O)cc1  25738-F12   \n",
       "286337      O=S(=O)(c1ccccc1)n1ccc(n1)-c1cnc(s1)-c1ccccc1  25689-D07   \n",
       "286338      O=S(=O)(c1ccccc1)n1ccc(n1)-c1cnc(s1)-c1ccccc1  25690-D07   \n",
       "286339      O=S(=O)(c1ccccc1)n1ccc(n1)-c1cnc(s1)-c1ccccc1  25692-D07   \n",
       "286340      O=S(=O)(c1ccccc1)n1ccc(n1)-c1cnc(s1)-c1ccccc1  25724-D07   \n",
       "\n",
       "              VIEWS  LABEL  NUM_ROW_CP_FEATURES    ASSAY  \n",
       "0       1_2_3_4_5_6    1.0                 2636   737823  \n",
       "1       1_2_3_4_5_6    1.0                 2870   737823  \n",
       "2       1_2_3_4_5_6    1.0                 3105   737823  \n",
       "3       1_2_3_4_5_6    1.0                 5531   737823  \n",
       "4       1_2_3_4_5_6    1.0                34149   737823  \n",
       "...             ...    ...                  ...      ...  \n",
       "286336  1_2_3_4_5_6    0.0                32530  1495346  \n",
       "286337  1_2_3_4_5_6    0.0                29280  1495346  \n",
       "286338  1_2_3_4_5_6    0.0                29533  1495346  \n",
       "286339  1_2_3_4_5_6    0.0                29786  1495346  \n",
       "286340  1_2_3_4_5_6    0.0                31625  1495346  \n",
       "\n",
       "[286341 rows x 7 columns]"
      ]
     },
     "execution_count": 2,
     "metadata": {},
     "output_type": "execute_result"
    }
   ],
   "source": [
    "df = pd.read_csv('/home/son.ha/FSL_CP/data/output/FINAL_LABEL_DF.csv')\n",
    "df"
   ]
  },
  {
   "cell_type": "code",
   "execution_count": 3,
   "metadata": {},
   "outputs": [
    {
     "data": {
      "text/html": [
       "<div>\n",
       "<style scoped>\n",
       "    .dataframe tbody tr th:only-of-type {\n",
       "        vertical-align: middle;\n",
       "    }\n",
       "\n",
       "    .dataframe tbody tr th {\n",
       "        vertical-align: top;\n",
       "    }\n",
       "\n",
       "    .dataframe thead th {\n",
       "        text-align: right;\n",
       "    }\n",
       "</style>\n",
       "<table border=\"1\" class=\"dataframe\">\n",
       "  <thead>\n",
       "    <tr style=\"text-align: right;\">\n",
       "      <th></th>\n",
       "      <th>INCHIKEY</th>\n",
       "      <th>CPD_SMILES</th>\n",
       "      <th>SAMPLE_KEY</th>\n",
       "      <th>VIEWS</th>\n",
       "      <th>LABEL</th>\n",
       "      <th>NUM_ROW_CP_FEATURES</th>\n",
       "      <th>ASSAY</th>\n",
       "      <th>VIEWS_LIST</th>\n",
       "    </tr>\n",
       "  </thead>\n",
       "  <tbody>\n",
       "    <tr>\n",
       "      <th>0</th>\n",
       "      <td>AUVVAXYIELKVAI-CKBKHPSWSA-N</td>\n",
       "      <td>CC[C@H]1CN2CCc3cc(OC)c(OC)cc3[C@@H]2C[C@@H]1C[...</td>\n",
       "      <td>24305-D04</td>\n",
       "      <td>1_2_3_4_5_6</td>\n",
       "      <td>1.0</td>\n",
       "      <td>2636</td>\n",
       "      <td>737823</td>\n",
       "      <td>24305-D04-1</td>\n",
       "    </tr>\n",
       "    <tr>\n",
       "      <th>1</th>\n",
       "      <td>AUVVAXYIELKVAI-CKBKHPSWSA-N</td>\n",
       "      <td>CC[C@H]1CN2CCc3cc(OC)c(OC)cc3[C@@H]2C[C@@H]1C[...</td>\n",
       "      <td>24305-D04</td>\n",
       "      <td>1_2_3_4_5_6</td>\n",
       "      <td>1.0</td>\n",
       "      <td>2636</td>\n",
       "      <td>737823</td>\n",
       "      <td>24305-D04-2</td>\n",
       "    </tr>\n",
       "    <tr>\n",
       "      <th>2</th>\n",
       "      <td>AUVVAXYIELKVAI-CKBKHPSWSA-N</td>\n",
       "      <td>CC[C@H]1CN2CCc3cc(OC)c(OC)cc3[C@@H]2C[C@@H]1C[...</td>\n",
       "      <td>24305-D04</td>\n",
       "      <td>1_2_3_4_5_6</td>\n",
       "      <td>1.0</td>\n",
       "      <td>2636</td>\n",
       "      <td>737823</td>\n",
       "      <td>24305-D04-3</td>\n",
       "    </tr>\n",
       "    <tr>\n",
       "      <th>3</th>\n",
       "      <td>AUVVAXYIELKVAI-CKBKHPSWSA-N</td>\n",
       "      <td>CC[C@H]1CN2CCc3cc(OC)c(OC)cc3[C@@H]2C[C@@H]1C[...</td>\n",
       "      <td>24305-D04</td>\n",
       "      <td>1_2_3_4_5_6</td>\n",
       "      <td>1.0</td>\n",
       "      <td>2636</td>\n",
       "      <td>737823</td>\n",
       "      <td>24305-D04-4</td>\n",
       "    </tr>\n",
       "    <tr>\n",
       "      <th>4</th>\n",
       "      <td>AUVVAXYIELKVAI-CKBKHPSWSA-N</td>\n",
       "      <td>CC[C@H]1CN2CCc3cc(OC)c(OC)cc3[C@@H]2C[C@@H]1C[...</td>\n",
       "      <td>24305-D04</td>\n",
       "      <td>1_2_3_4_5_6</td>\n",
       "      <td>1.0</td>\n",
       "      <td>2636</td>\n",
       "      <td>737823</td>\n",
       "      <td>24305-D04-5</td>\n",
       "    </tr>\n",
       "    <tr>\n",
       "      <th>...</th>\n",
       "      <td>...</td>\n",
       "      <td>...</td>\n",
       "      <td>...</td>\n",
       "      <td>...</td>\n",
       "      <td>...</td>\n",
       "      <td>...</td>\n",
       "      <td>...</td>\n",
       "      <td>...</td>\n",
       "    </tr>\n",
       "    <tr>\n",
       "      <th>1716801</th>\n",
       "      <td>ZZZPZDFBUDZIOU-UHFFFAOYSA-N</td>\n",
       "      <td>O=S(=O)(c1ccccc1)n1ccc(n1)-c1cnc(s1)-c1ccccc1</td>\n",
       "      <td>25724-D07</td>\n",
       "      <td>1_2_3_4_5_6</td>\n",
       "      <td>0.0</td>\n",
       "      <td>31625</td>\n",
       "      <td>1495346</td>\n",
       "      <td>25724-D07-2</td>\n",
       "    </tr>\n",
       "    <tr>\n",
       "      <th>1716802</th>\n",
       "      <td>ZZZPZDFBUDZIOU-UHFFFAOYSA-N</td>\n",
       "      <td>O=S(=O)(c1ccccc1)n1ccc(n1)-c1cnc(s1)-c1ccccc1</td>\n",
       "      <td>25724-D07</td>\n",
       "      <td>1_2_3_4_5_6</td>\n",
       "      <td>0.0</td>\n",
       "      <td>31625</td>\n",
       "      <td>1495346</td>\n",
       "      <td>25724-D07-3</td>\n",
       "    </tr>\n",
       "    <tr>\n",
       "      <th>1716803</th>\n",
       "      <td>ZZZPZDFBUDZIOU-UHFFFAOYSA-N</td>\n",
       "      <td>O=S(=O)(c1ccccc1)n1ccc(n1)-c1cnc(s1)-c1ccccc1</td>\n",
       "      <td>25724-D07</td>\n",
       "      <td>1_2_3_4_5_6</td>\n",
       "      <td>0.0</td>\n",
       "      <td>31625</td>\n",
       "      <td>1495346</td>\n",
       "      <td>25724-D07-4</td>\n",
       "    </tr>\n",
       "    <tr>\n",
       "      <th>1716804</th>\n",
       "      <td>ZZZPZDFBUDZIOU-UHFFFAOYSA-N</td>\n",
       "      <td>O=S(=O)(c1ccccc1)n1ccc(n1)-c1cnc(s1)-c1ccccc1</td>\n",
       "      <td>25724-D07</td>\n",
       "      <td>1_2_3_4_5_6</td>\n",
       "      <td>0.0</td>\n",
       "      <td>31625</td>\n",
       "      <td>1495346</td>\n",
       "      <td>25724-D07-5</td>\n",
       "    </tr>\n",
       "    <tr>\n",
       "      <th>1716805</th>\n",
       "      <td>ZZZPZDFBUDZIOU-UHFFFAOYSA-N</td>\n",
       "      <td>O=S(=O)(c1ccccc1)n1ccc(n1)-c1cnc(s1)-c1ccccc1</td>\n",
       "      <td>25724-D07</td>\n",
       "      <td>1_2_3_4_5_6</td>\n",
       "      <td>0.0</td>\n",
       "      <td>31625</td>\n",
       "      <td>1495346</td>\n",
       "      <td>25724-D07-6</td>\n",
       "    </tr>\n",
       "  </tbody>\n",
       "</table>\n",
       "<p>1716806 rows × 8 columns</p>\n",
       "</div>"
      ],
      "text/plain": [
       "                            INCHIKEY  \\\n",
       "0        AUVVAXYIELKVAI-CKBKHPSWSA-N   \n",
       "1        AUVVAXYIELKVAI-CKBKHPSWSA-N   \n",
       "2        AUVVAXYIELKVAI-CKBKHPSWSA-N   \n",
       "3        AUVVAXYIELKVAI-CKBKHPSWSA-N   \n",
       "4        AUVVAXYIELKVAI-CKBKHPSWSA-N   \n",
       "...                              ...   \n",
       "1716801  ZZZPZDFBUDZIOU-UHFFFAOYSA-N   \n",
       "1716802  ZZZPZDFBUDZIOU-UHFFFAOYSA-N   \n",
       "1716803  ZZZPZDFBUDZIOU-UHFFFAOYSA-N   \n",
       "1716804  ZZZPZDFBUDZIOU-UHFFFAOYSA-N   \n",
       "1716805  ZZZPZDFBUDZIOU-UHFFFAOYSA-N   \n",
       "\n",
       "                                                CPD_SMILES SAMPLE_KEY  \\\n",
       "0        CC[C@H]1CN2CCc3cc(OC)c(OC)cc3[C@@H]2C[C@@H]1C[...  24305-D04   \n",
       "1        CC[C@H]1CN2CCc3cc(OC)c(OC)cc3[C@@H]2C[C@@H]1C[...  24305-D04   \n",
       "2        CC[C@H]1CN2CCc3cc(OC)c(OC)cc3[C@@H]2C[C@@H]1C[...  24305-D04   \n",
       "3        CC[C@H]1CN2CCc3cc(OC)c(OC)cc3[C@@H]2C[C@@H]1C[...  24305-D04   \n",
       "4        CC[C@H]1CN2CCc3cc(OC)c(OC)cc3[C@@H]2C[C@@H]1C[...  24305-D04   \n",
       "...                                                    ...        ...   \n",
       "1716801      O=S(=O)(c1ccccc1)n1ccc(n1)-c1cnc(s1)-c1ccccc1  25724-D07   \n",
       "1716802      O=S(=O)(c1ccccc1)n1ccc(n1)-c1cnc(s1)-c1ccccc1  25724-D07   \n",
       "1716803      O=S(=O)(c1ccccc1)n1ccc(n1)-c1cnc(s1)-c1ccccc1  25724-D07   \n",
       "1716804      O=S(=O)(c1ccccc1)n1ccc(n1)-c1cnc(s1)-c1ccccc1  25724-D07   \n",
       "1716805      O=S(=O)(c1ccccc1)n1ccc(n1)-c1cnc(s1)-c1ccccc1  25724-D07   \n",
       "\n",
       "               VIEWS  LABEL  NUM_ROW_CP_FEATURES    ASSAY   VIEWS_LIST  \n",
       "0        1_2_3_4_5_6    1.0                 2636   737823  24305-D04-1  \n",
       "1        1_2_3_4_5_6    1.0                 2636   737823  24305-D04-2  \n",
       "2        1_2_3_4_5_6    1.0                 2636   737823  24305-D04-3  \n",
       "3        1_2_3_4_5_6    1.0                 2636   737823  24305-D04-4  \n",
       "4        1_2_3_4_5_6    1.0                 2636   737823  24305-D04-5  \n",
       "...              ...    ...                  ...      ...          ...  \n",
       "1716801  1_2_3_4_5_6    0.0                31625  1495346  25724-D07-2  \n",
       "1716802  1_2_3_4_5_6    0.0                31625  1495346  25724-D07-3  \n",
       "1716803  1_2_3_4_5_6    0.0                31625  1495346  25724-D07-4  \n",
       "1716804  1_2_3_4_5_6    0.0                31625  1495346  25724-D07-5  \n",
       "1716805  1_2_3_4_5_6    0.0                31625  1495346  25724-D07-6  \n",
       "\n",
       "[1716806 rows x 8 columns]"
      ]
     },
     "execution_count": 3,
     "metadata": {},
     "output_type": "execute_result"
    }
   ],
   "source": [
    "each_view_a_datapoint(df)"
   ]
  },
  {
   "cell_type": "code",
   "execution_count": 1,
   "metadata": {},
   "outputs": [
    {
     "data": {
      "text/plain": [
       "0.09136255382736513"
      ]
     },
     "execution_count": 1,
     "metadata": {},
     "output_type": "execute_result"
    }
   ],
   "source": [
    "import numpy as np\n",
    "\n",
    "np.mean([0.1983717008797654, -0.024404411948240834, -0.031022902384971296, 0.04700254914559526, 0.14152790645531116, 0.0792233464950226, 0.1847948535130931, 0.07142892138509249, 0.14302831127395604, 0.17149388870727544, 0.10816211566211564, 0.0067443667443667366])"
   ]
  },
  {
   "cell_type": "code",
   "execution_count": 2,
   "metadata": {},
   "outputs": [
    {
     "data": {
      "text/plain": [
       "0.5003787878787879"
      ]
     },
     "execution_count": 2,
     "metadata": {},
     "output_type": "execute_result"
    }
   ],
   "source": [
    "[1. 0. 1. 0. 0. 0. 0. 0. 1. 1. 1. 0. 0. 1. 0. 1. 0. 0. 0. 1. 0. 0. 0. 1.\n",
    " 0. 0. 0. 0. 0. 1. 0. 0.]"
   ]
  },
  {
   "cell_type": "code",
   "execution_count": null,
   "metadata": {},
   "outputs": [],
   "source": [
    "[0. 1. 1. 0. 0. 0. 0. 0. 0. 0. 0. 0. 1. 0. 1. 1. 0. 0. 1. 0. 0. 0. 0. 0.\n",
    " 0. 1. 1. 1. 1. 0. 0. 0.]"
   ]
  },
  {
   "cell_type": "code",
   "execution_count": null,
   "metadata": {},
   "outputs": [],
   "source": [
    "[1. 0. 0. 1. 0. 0. 0. 1. 1. 0. 1. 0. 0. 0. 0. 0. 1. 0. 0. 1. 0. 1. 0. 0.\n",
    " 1. 1. 0. 0. 0. 0. 0. 0.]"
   ]
  },
  {
   "cell_type": "code",
   "execution_count": 3,
   "metadata": {},
   "outputs": [
    {
     "data": {
      "text/plain": [
       "0.3125"
      ]
     },
     "execution_count": 3,
     "metadata": {},
     "output_type": "execute_result"
    }
   ],
   "source": [
    "10/32"
   ]
  },
  {
   "cell_type": "code",
   "execution_count": 4,
   "metadata": {},
   "outputs": [
    {
     "data": {
      "text/plain": [
       "0.28125"
      ]
     },
     "execution_count": 4,
     "metadata": {},
     "output_type": "execute_result"
    }
   ],
   "source": [
    "9/32"
   ]
  },
  {
   "cell_type": "code",
   "execution_count": 5,
   "metadata": {},
   "outputs": [],
   "source": [
    "d = [0.30490019888240133, 0.3214391817332994, 0.5425896671919945, 0.4959409287291837, 0.4944339442409549, 0.5523776296802613, 0.4123760495402964, 0.3968102118691955, 0.5134102564102563, 0.6391498778998779, 0.46784719590754076, 0.39267323481116584, 0.3206337673409284, 0.5757585087326466, 0.5514650900147857, 0.38889156528961627, 0.591489898989899, 0.37579097626511426]"
   ]
  },
  {
   "cell_type": "code",
   "execution_count": 7,
   "metadata": {},
   "outputs": [
    {
     "data": {
      "text/plain": [
       "0.15072101019607875"
      ]
     },
     "execution_count": 7,
     "metadata": {},
     "output_type": "execute_result"
    }
   ],
   "source": [
    "np.mean(d) - 10/32"
   ]
  },
  {
   "cell_type": "code",
   "execution_count": 8,
   "metadata": {},
   "outputs": [],
   "source": [
    "a = [0.44545454545454544, 0.4590909090909091, 0.6227272727272728, 0.4227272727272727, 0.5727272727272728, 0.6772727272727272, 0.45, 0.6000000000000001, 0.5818181818181818, 0.7136363636363636, 0.5727272727272728, 0.5636363636363636, 0.48181818181818187, 0.6545454545454545, 0.6590909090909091, 0.4545454545454546, 0.7090909090909091, 0.5227272727272727]"
   ]
  },
  {
   "cell_type": "code",
   "execution_count": 19,
   "metadata": {},
   "outputs": [],
   "source": [
    "a = [0.38181818181818183, 0.4818181818181818, 0.6090909090909091, 0.640909090909091, 0.4409090909090909, 0.5863636363636364, 0.32727272727272727, 0.4181818181818181, 0.6636363636363637, 0.5, 0.40909090909090906, 0.38636363636363635, 0.65, 0.3318181818181818, 0.24090909090909088, 0.5318181818181817, 0.4681818181818182, 0.6409090909090909, 0.38636363636363635, 0.5590909090909091, 0.6727272727272727, 0.3090909090909091, 0.30454545454545456, 0.3818181818181819, 0.34545454545454546, 0.4909090909090909, 0.5954545454545455, 0.3590909090909091, 0.4772727272727273, 0.5136363636363637, 0.4818181818181818, 0.6954545454545454, 0.40454545454545454, 0.23181818181818184, 0.4590909090909091, 0.5545454545454545, 0.41363636363636364, 0.5454545454545454, 0.8363636363636363, 0.5272727272727272, 0.45000000000000007, 0.5, 0.4136363636363637, 0.48636363636363633, 0.4318181818181818, 0.5409090909090909, 0.5136363636363637, 0.6909090909090909, 0.4272727272727273, 0.49090909090909096, 0.4772727272727273, 0.41818181818181815, 0.6227272727272728, 0.45454545454545453, 0.6272727272727272, 0.4909090909090909, 0.44545454545454544, 0.35, 0.7454545454545455, 0.24545454545454543, 0.40454545454545454, 0.640909090909091, 0.5727272727272728, 0.4727272727272727, 0.5363636363636364, 0.39545454545454545, 0.4636363636363637, 0.5454545454545454, 0.5363636363636364, 0.5727272727272726, 0.6863636363636364, 0.6545454545454547, 0.4454545454545455, 0.4636363636363636, 0.1545454545454545, 0.42272727272727273, 0.38636363636363635, 0.5727272727272728, 0.48636363636363633, 0.49090909090909085, 0.7181818181818183]\n",
    "b = [0.3591135311824085, 0.36691414747449225, 0.4749589490968801, 0.5843554317586868, 0.2936794878174188, 0.5839033867304658, 0.40123940554975035, 0.3026777372095333, 0.6014249639249639, 0.4556779435912296, 0.2906760404021356, 0.29822405700631505, 0.5885822702202013, 0.29085078084207194, 0.30966768218454876, 0.5280415205551321, 0.36478572204378656, 0.4633050827168474, 0.3910311758134339, 0.48118599791013583, 0.5644232348111659, 0.27822766579607516, 0.2743857133679158, 0.3793003480185876, 0.2578764538487502, 0.451622737096875, 0.6005465544739592, 0.26586809205287465, 0.4989156206838763, 0.33664840956145303, 0.35190365838586085, 0.5470151479590839, 0.3067936328377505, 0.22712586280285774, 0.35576100455854276, 0.44185488311849475, 0.3569892404459858, 0.4738681255815123, 0.74390608875129, 0.42770273388185104, 0.3170493152072099, 0.3960901636502323, 0.29786600729798485, 0.449576792660384, 0.3737063862063862, 0.4708496732026143, 0.3901806537207587, 0.4409957433870477, 0.3672278773857721, 0.39650432089150234, 0.434638980113118, 0.31436197145457434, 0.4120558608058608, 0.330771356306275, 0.5015557472255765, 0.33058054489238897, 0.31025683298903545, 0.2897301462904911, 0.6658916083916084, 0.22999824805194935, 0.28778616966820236, 0.6052158952158952, 0.4401099480229915, 0.47828610606836414, 0.422579742714942, 0.29896718759041274, 0.44251353718745023, 0.3462488426904903, 0.4234650856389987, 0.4324428797009442, 0.5910749054866702, 0.5490241702741703, 0.2905678404889485, 0.37882274426205254, 0.21043568987955136, 0.31605166572557875, 0.36961641200313256, 0.4365314516156742, 0.33399891774891777, 0.34068223443223444, 0.5720253430779747]"
   ]
  },
  {
   "cell_type": "code",
   "execution_count": 20,
   "metadata": {},
   "outputs": [
    {
     "data": {
      "text/plain": [
       "0.4901234567901235"
      ]
     },
     "execution_count": 20,
     "metadata": {},
     "output_type": "execute_result"
    }
   ],
   "source": [
    "np.mean(a)"
   ]
  },
  {
   "cell_type": "code",
   "execution_count": 21,
   "metadata": {},
   "outputs": [
    {
     "data": {
      "text/plain": [
       "0.0890634879220934"
      ]
     },
     "execution_count": 21,
     "metadata": {},
     "output_type": "execute_result"
    }
   ],
   "source": [
    "np.mean(b) - 0.316583"
   ]
  },
  {
   "cell_type": "code",
   "execution_count": 14,
   "metadata": {},
   "outputs": [
    {
     "name": "stderr",
     "output_type": "stream",
     "text": [
      "/tmp/ipykernel_2017809/3353579217.py:2: DtypeWarning: Columns (6) have mixed types. Specify dtype option on import or set low_memory=False.\n",
      "  df = pd.read_csv('/home/son.ha/FSL_CP/data/output/FINAL_LABEL_DF.csv')\n"
     ]
    },
    {
     "data": {
      "text/html": [
       "<div>\n",
       "<style scoped>\n",
       "    .dataframe tbody tr th:only-of-type {\n",
       "        vertical-align: middle;\n",
       "    }\n",
       "\n",
       "    .dataframe tbody tr th {\n",
       "        vertical-align: top;\n",
       "    }\n",
       "\n",
       "    .dataframe thead th {\n",
       "        text-align: right;\n",
       "    }\n",
       "</style>\n",
       "<table border=\"1\" class=\"dataframe\">\n",
       "  <thead>\n",
       "    <tr style=\"text-align: right;\">\n",
       "      <th></th>\n",
       "      <th>INCHIKEY</th>\n",
       "      <th>CPD_SMILES</th>\n",
       "      <th>SAMPLE_KEY</th>\n",
       "      <th>VIEWS</th>\n",
       "      <th>LABEL</th>\n",
       "      <th>NUM_ROW_CP_FEATURES</th>\n",
       "      <th>ASSAY</th>\n",
       "    </tr>\n",
       "  </thead>\n",
       "  <tbody>\n",
       "    <tr>\n",
       "      <th>0</th>\n",
       "      <td>AUVVAXYIELKVAI-CKBKHPSWSA-N</td>\n",
       "      <td>CC[C@H]1CN2CCc3cc(OC)c(OC)cc3[C@@H]2C[C@@H]1C[...</td>\n",
       "      <td>24305-D04</td>\n",
       "      <td>1_2_3_4_5_6</td>\n",
       "      <td>1.0</td>\n",
       "      <td>2636</td>\n",
       "      <td>737823</td>\n",
       "    </tr>\n",
       "    <tr>\n",
       "      <th>1</th>\n",
       "      <td>AUVVAXYIELKVAI-CKBKHPSWSA-N</td>\n",
       "      <td>CC[C@H]1CN2CCc3cc(OC)c(OC)cc3[C@@H]2C[C@@H]1C[...</td>\n",
       "      <td>24306-D04</td>\n",
       "      <td>1_2_3_4_5_6</td>\n",
       "      <td>1.0</td>\n",
       "      <td>2870</td>\n",
       "      <td>737823</td>\n",
       "    </tr>\n",
       "    <tr>\n",
       "      <th>2</th>\n",
       "      <td>AUVVAXYIELKVAI-CKBKHPSWSA-N</td>\n",
       "      <td>CC[C@H]1CN2CCc3cc(OC)c(OC)cc3[C@@H]2C[C@@H]1C[...</td>\n",
       "      <td>24307-D04</td>\n",
       "      <td>1_2_3_4_5_6</td>\n",
       "      <td>1.0</td>\n",
       "      <td>3105</td>\n",
       "      <td>737823</td>\n",
       "    </tr>\n",
       "    <tr>\n",
       "      <th>3</th>\n",
       "      <td>AUVVAXYIELKVAI-CKBKHPSWSA-N</td>\n",
       "      <td>CC[C@H]1CN2CCc3cc(OC)c(OC)cc3[C@@H]2C[C@@H]1C[...</td>\n",
       "      <td>24352-D04</td>\n",
       "      <td>1_2_3_4_5_6</td>\n",
       "      <td>1.0</td>\n",
       "      <td>5531</td>\n",
       "      <td>737823</td>\n",
       "    </tr>\n",
       "    <tr>\n",
       "      <th>4</th>\n",
       "      <td>AUVVAXYIELKVAI-CKBKHPSWSA-N</td>\n",
       "      <td>CC[C@H]1CN2CCc3cc(OC)c(OC)cc3[C@@H]2C[C@@H]1C[...</td>\n",
       "      <td>25955-D04</td>\n",
       "      <td>1_2_3_4_5_6</td>\n",
       "      <td>1.0</td>\n",
       "      <td>34149</td>\n",
       "      <td>737823</td>\n",
       "    </tr>\n",
       "    <tr>\n",
       "      <th>...</th>\n",
       "      <td>...</td>\n",
       "      <td>...</td>\n",
       "      <td>...</td>\n",
       "      <td>...</td>\n",
       "      <td>...</td>\n",
       "      <td>...</td>\n",
       "      <td>...</td>\n",
       "    </tr>\n",
       "    <tr>\n",
       "      <th>286336</th>\n",
       "      <td>ZZRJKLPEGBZEAO-UHFFFAOYSA-N</td>\n",
       "      <td>COCCNC1=NN=C(CS1)c1ccc(NC(C)=O)cc1</td>\n",
       "      <td>25738-F12</td>\n",
       "      <td>1_2_3_4_5_6</td>\n",
       "      <td>0.0</td>\n",
       "      <td>32530</td>\n",
       "      <td>1495346</td>\n",
       "    </tr>\n",
       "    <tr>\n",
       "      <th>286337</th>\n",
       "      <td>ZZZPZDFBUDZIOU-UHFFFAOYSA-N</td>\n",
       "      <td>O=S(=O)(c1ccccc1)n1ccc(n1)-c1cnc(s1)-c1ccccc1</td>\n",
       "      <td>25689-D07</td>\n",
       "      <td>1_2_3_4_5_6</td>\n",
       "      <td>0.0</td>\n",
       "      <td>29280</td>\n",
       "      <td>1495346</td>\n",
       "    </tr>\n",
       "    <tr>\n",
       "      <th>286338</th>\n",
       "      <td>ZZZPZDFBUDZIOU-UHFFFAOYSA-N</td>\n",
       "      <td>O=S(=O)(c1ccccc1)n1ccc(n1)-c1cnc(s1)-c1ccccc1</td>\n",
       "      <td>25690-D07</td>\n",
       "      <td>1_2_3_4_5_6</td>\n",
       "      <td>0.0</td>\n",
       "      <td>29533</td>\n",
       "      <td>1495346</td>\n",
       "    </tr>\n",
       "    <tr>\n",
       "      <th>286339</th>\n",
       "      <td>ZZZPZDFBUDZIOU-UHFFFAOYSA-N</td>\n",
       "      <td>O=S(=O)(c1ccccc1)n1ccc(n1)-c1cnc(s1)-c1ccccc1</td>\n",
       "      <td>25692-D07</td>\n",
       "      <td>1_2_3_4_5_6</td>\n",
       "      <td>0.0</td>\n",
       "      <td>29786</td>\n",
       "      <td>1495346</td>\n",
       "    </tr>\n",
       "    <tr>\n",
       "      <th>286340</th>\n",
       "      <td>ZZZPZDFBUDZIOU-UHFFFAOYSA-N</td>\n",
       "      <td>O=S(=O)(c1ccccc1)n1ccc(n1)-c1cnc(s1)-c1ccccc1</td>\n",
       "      <td>25724-D07</td>\n",
       "      <td>1_2_3_4_5_6</td>\n",
       "      <td>0.0</td>\n",
       "      <td>31625</td>\n",
       "      <td>1495346</td>\n",
       "    </tr>\n",
       "  </tbody>\n",
       "</table>\n",
       "<p>286341 rows × 7 columns</p>\n",
       "</div>"
      ],
      "text/plain": [
       "                           INCHIKEY  \\\n",
       "0       AUVVAXYIELKVAI-CKBKHPSWSA-N   \n",
       "1       AUVVAXYIELKVAI-CKBKHPSWSA-N   \n",
       "2       AUVVAXYIELKVAI-CKBKHPSWSA-N   \n",
       "3       AUVVAXYIELKVAI-CKBKHPSWSA-N   \n",
       "4       AUVVAXYIELKVAI-CKBKHPSWSA-N   \n",
       "...                             ...   \n",
       "286336  ZZRJKLPEGBZEAO-UHFFFAOYSA-N   \n",
       "286337  ZZZPZDFBUDZIOU-UHFFFAOYSA-N   \n",
       "286338  ZZZPZDFBUDZIOU-UHFFFAOYSA-N   \n",
       "286339  ZZZPZDFBUDZIOU-UHFFFAOYSA-N   \n",
       "286340  ZZZPZDFBUDZIOU-UHFFFAOYSA-N   \n",
       "\n",
       "                                               CPD_SMILES SAMPLE_KEY  \\\n",
       "0       CC[C@H]1CN2CCc3cc(OC)c(OC)cc3[C@@H]2C[C@@H]1C[...  24305-D04   \n",
       "1       CC[C@H]1CN2CCc3cc(OC)c(OC)cc3[C@@H]2C[C@@H]1C[...  24306-D04   \n",
       "2       CC[C@H]1CN2CCc3cc(OC)c(OC)cc3[C@@H]2C[C@@H]1C[...  24307-D04   \n",
       "3       CC[C@H]1CN2CCc3cc(OC)c(OC)cc3[C@@H]2C[C@@H]1C[...  24352-D04   \n",
       "4       CC[C@H]1CN2CCc3cc(OC)c(OC)cc3[C@@H]2C[C@@H]1C[...  25955-D04   \n",
       "...                                                   ...        ...   \n",
       "286336                 COCCNC1=NN=C(CS1)c1ccc(NC(C)=O)cc1  25738-F12   \n",
       "286337      O=S(=O)(c1ccccc1)n1ccc(n1)-c1cnc(s1)-c1ccccc1  25689-D07   \n",
       "286338      O=S(=O)(c1ccccc1)n1ccc(n1)-c1cnc(s1)-c1ccccc1  25690-D07   \n",
       "286339      O=S(=O)(c1ccccc1)n1ccc(n1)-c1cnc(s1)-c1ccccc1  25692-D07   \n",
       "286340      O=S(=O)(c1ccccc1)n1ccc(n1)-c1cnc(s1)-c1ccccc1  25724-D07   \n",
       "\n",
       "              VIEWS  LABEL  NUM_ROW_CP_FEATURES    ASSAY  \n",
       "0       1_2_3_4_5_6    1.0                 2636   737823  \n",
       "1       1_2_3_4_5_6    1.0                 2870   737823  \n",
       "2       1_2_3_4_5_6    1.0                 3105   737823  \n",
       "3       1_2_3_4_5_6    1.0                 5531   737823  \n",
       "4       1_2_3_4_5_6    1.0                34149   737823  \n",
       "...             ...    ...                  ...      ...  \n",
       "286336  1_2_3_4_5_6    0.0                32530  1495346  \n",
       "286337  1_2_3_4_5_6    0.0                29280  1495346  \n",
       "286338  1_2_3_4_5_6    0.0                29533  1495346  \n",
       "286339  1_2_3_4_5_6    0.0                29786  1495346  \n",
       "286340  1_2_3_4_5_6    0.0                31625  1495346  \n",
       "\n",
       "[286341 rows x 7 columns]"
      ]
     },
     "execution_count": 14,
     "metadata": {},
     "output_type": "execute_result"
    }
   ],
   "source": [
    "import pandas as pd\n",
    "df = pd.read_csv('/home/son.ha/FSL_CP/data/output/FINAL_LABEL_DF.csv')\n",
    "df"
   ]
  },
  {
   "cell_type": "code",
   "execution_count": 17,
   "metadata": {},
   "outputs": [
    {
     "data": {
      "text/plain": [
       "0.0    0.683417\n",
       "1.0    0.316583\n",
       "Name: LABEL, dtype: float64"
      ]
     },
     "execution_count": 17,
     "metadata": {},
     "output_type": "execute_result"
    }
   ],
   "source": [
    "df[df['ASSAY']=='688267']['LABEL'].value_counts(normalize=True)"
   ]
  }
 ],
 "metadata": {
  "kernelspec": {
   "display_name": "Python 3",
   "language": "python",
   "name": "python3"
  },
  "language_info": {
   "codemirror_mode": {
    "name": "ipython",
    "version": 3
   },
   "file_extension": ".py",
   "mimetype": "text/x-python",
   "name": "python",
   "nbconvert_exporter": "python",
   "pygments_lexer": "ipython3",
   "version": "3.9.13"
  },
  "orig_nbformat": 4,
  "vscode": {
   "interpreter": {
    "hash": "10316af22c25afef02586b059330728af6980e41a2ff253fb3fe115ef68c8368"
   }
  }
 },
 "nbformat": 4,
 "nbformat_minor": 2
}
