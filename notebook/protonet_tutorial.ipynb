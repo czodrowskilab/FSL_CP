{
 "cells": [
  {
   "cell_type": "code",
   "execution_count": 1,
   "metadata": {},
   "outputs": [],
   "source": [
    "# Setting things up for importing local modules\n",
    "import os \n",
    "import sys\n",
    "\n",
    "# Add folder FSL_CP to sys.path\n",
    "FSL_CP_PATH = os.path.join(os.environ['HOME'], 'FSL_CP')\n",
    "sys.path.insert(0, FSL_CP_PATH)\n",
    "\n",
    "# Change working directory to FSL_CP\n",
    "os.chdir(FSL_CP_PATH)\n"
   ]
  },
  {
   "cell_type": "code",
   "execution_count": 2,
   "metadata": {},
   "outputs": [],
   "source": [
    "# Imports\n",
    "\n",
    "from fsl_cp.datamodule.base import BaseDatasetCP, BaseSamplerCP"
   ]
  },
  {
   "cell_type": "code",
   "execution_count": null,
   "metadata": {},
   "outputs": [],
   "source": []
  }
 ],
 "metadata": {
  "kernelspec": {
   "display_name": "fsl-cp",
   "language": "python",
   "name": "python3"
  },
  "language_info": {
   "codemirror_mode": {
    "name": "ipython",
    "version": 3
   },
   "file_extension": ".py",
   "mimetype": "text/x-python",
   "name": "python",
   "nbconvert_exporter": "python",
   "pygments_lexer": "ipython3",
   "version": "3.9.16"
  },
  "orig_nbformat": 4
 },
 "nbformat": 4,
 "nbformat_minor": 2
}
